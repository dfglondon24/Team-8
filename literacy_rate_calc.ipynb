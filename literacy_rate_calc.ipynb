{
 "cells": [
  {
   "cell_type": "code",
   "execution_count": 8,
   "id": "96759aec-b50c-4d5e-8e25-f7fe9e25472a",
   "metadata": {},
   "outputs": [
    {
     "name": "stdout",
     "output_type": "stream",
     "text": [
      "       Region  Total Literacy Rate  Average Literacy Rate\n",
      "0     Ashanti                588.0               0.993243\n",
      "1  Upper East                624.0               0.978056\n",
      "2  Upper West                456.0               0.758735\n"
     ]
    }
   ],
   "source": [
    "#    6   Ashanti\n",
    "#        15  Upper East\n",
    "#    16  Upper West\n",
    "# Literacy\n",
    "\n",
    "import pandas as pd\n",
    "\n",
    "data_2022 = pd.read_csv(\"Team-8/sas_2022_df.csv\")\n",
    "filtered_df = data_2022[[\"Literacy\",\"Region\"]]\n",
    "filtered_df = filtered_df[filtered_df['Region'].isin([6, 15, 16])]\n",
    "\n",
    "region_mapping = {6: 'Ashanti', 15: 'Upper East', 16: 'Upper West'}\n",
    "filtered_df['Region'] = filtered_df['Region'].map(region_mapping)\n",
    "\n",
    "# Group by 'Region' and calculate sum and average for Literacy\n",
    "region_literacy_stats = filtered_df.groupby('Region')['Literacy'].agg(['sum', 'mean']).reset_index()\n",
    "\n",
    "# Rename columns for clarity\n",
    "region_literacy_stats.columns = ['Region', 'Total Literacy Rate', 'Average Literacy Rate']\n",
    "\n",
    "\n",
    "print(region_literacy_stats)"
   ]
  },
  {
   "cell_type": "code",
   "execution_count": null,
   "id": "2d5c6569-0b8f-4df1-a788-55f3e3382673",
   "metadata": {},
   "outputs": [],
   "source": []
  },
  {
   "cell_type": "code",
   "execution_count": null,
   "id": "1faf6a15-2fe4-41e5-8b78-df877a424c17",
   "metadata": {},
   "outputs": [],
   "source": []
  }
 ],
 "metadata": {
  "kernelspec": {
   "display_name": "Python 3 (ipykernel)",
   "language": "python",
   "name": "python3"
  },
  "language_info": {
   "codemirror_mode": {
    "name": "ipython",
    "version": 3
   },
   "file_extension": ".py",
   "mimetype": "text/x-python",
   "name": "python",
   "nbconvert_exporter": "python",
   "pygments_lexer": "ipython3",
   "version": "3.10.10"
  }
 },
 "nbformat": 4,
 "nbformat_minor": 5
}
