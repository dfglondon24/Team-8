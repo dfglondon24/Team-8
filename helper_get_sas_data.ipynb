{
 "cells": [
  {
   "cell_type": "code",
   "execution_count": 13,
   "id": "870cb222-530f-46db-ba41-db98e07721ac",
   "metadata": {
    "tags": []
   },
   "outputs": [
    {
     "name": "stdout",
     "output_type": "stream",
     "text": [
      "Warning: column count mismatch (105 + 247 != 396)\n",
      "\n",
      "0        1.780059e-307\n",
      "1        1.780059e-307\n",
      "2        1.780059e-307\n",
      "3        1.780059e-307\n",
      "4        1.780059e-307\n",
      "             ...      \n",
      "69679     3.200000e+01\n",
      "69680     3.200000e+01\n",
      "69681     3.200000e+01\n",
      "69682     3.200000e+01\n",
      "69683     3.200000e+01\n",
      "Name: HV022, Length: 69684, dtype: float64\n"
     ]
    }
   ],
   "source": [
    "import pandas as pd\n",
    "\n",
    "csv_path = \"shared_data_read_only/Data/DHS/GH_2022_DHS/GHPR8BSD/GHPR8BFL.SAS7BDAT\"\n",
    "df = pd.read_sas(csv_path)\n",
    "\n",
    "# Display the first few rows of the DataFrame\n",
    "print(df[\"HV022\"])"
   ]
  },
  {
   "cell_type": "code",
   "execution_count": 14,
   "id": "0ff4fe2f-cc44-405b-b18c-ec40b8024cf0",
   "metadata": {
    "tags": []
   },
   "outputs": [
    {
     "data": {
      "text/html": [
       "<div>\n",
       "<style scoped>\n",
       "    .dataframe tbody tr th:only-of-type {\n",
       "        vertical-align: middle;\n",
       "    }\n",
       "\n",
       "    .dataframe tbody tr th {\n",
       "        vertical-align: top;\n",
       "    }\n",
       "\n",
       "    .dataframe thead th {\n",
       "        text-align: right;\n",
       "    }\n",
       "</style>\n",
       "<table border=\"1\" class=\"dataframe\">\n",
       "  <thead>\n",
       "    <tr style=\"text-align: right;\">\n",
       "      <th></th>\n",
       "      <th>HHID</th>\n",
       "      <th>HVIDX</th>\n",
       "      <th>HV000</th>\n",
       "      <th>HV001</th>\n",
       "      <th>HV002</th>\n",
       "      <th>HV003</th>\n",
       "      <th>HV004</th>\n",
       "      <th>HV005</th>\n",
       "      <th>HV006</th>\n",
       "      <th>HV007</th>\n",
       "      <th>...</th>\n",
       "      <th>HML37G</th>\n",
       "      <th>HML37H</th>\n",
       "      <th>HML37I</th>\n",
       "      <th>HML37J</th>\n",
       "      <th>HML37K</th>\n",
       "      <th>HML37L</th>\n",
       "      <th>HML37M</th>\n",
       "      <th>HML38</th>\n",
       "      <th>HML39</th>\n",
       "      <th>HML40</th>\n",
       "    </tr>\n",
       "  </thead>\n",
       "  <tbody>\n",
       "    <tr>\n",
       "      <th>0</th>\n",
       "      <td>b'   1   1GH8'</td>\n",
       "      <td>1.0</td>\n",
       "      <td>NaN</td>\n",
       "      <td>1.0</td>\n",
       "      <td>1.776582e-307</td>\n",
       "      <td>1.0</td>\n",
       "      <td>7.145115e+140</td>\n",
       "      <td>1.796574e-307</td>\n",
       "      <td>2022.0</td>\n",
       "      <td>1475.0</td>\n",
       "      <td>...</td>\n",
       "      <td>-9.945251e+86</td>\n",
       "      <td>-9.945251e+86</td>\n",
       "      <td>-9.945251e+86</td>\n",
       "      <td>-9.945251e+86</td>\n",
       "      <td>-9.945251e+86</td>\n",
       "      <td>-9.945251e+86</td>\n",
       "      <td>-9.945251e+86</td>\n",
       "      <td>7.290232e-304</td>\n",
       "      <td>NaN</td>\n",
       "      <td>6.013469e-154</td>\n",
       "    </tr>\n",
       "    <tr>\n",
       "      <th>1</th>\n",
       "      <td>b'   1   4GH8'</td>\n",
       "      <td>1.0</td>\n",
       "      <td>NaN</td>\n",
       "      <td>4.0</td>\n",
       "      <td>1.776582e-307</td>\n",
       "      <td>1.0</td>\n",
       "      <td>7.145115e+140</td>\n",
       "      <td>1.795705e-307</td>\n",
       "      <td>2022.0</td>\n",
       "      <td>1474.0</td>\n",
       "      <td>...</td>\n",
       "      <td>-9.945251e+86</td>\n",
       "      <td>-9.945251e+86</td>\n",
       "      <td>-9.945251e+86</td>\n",
       "      <td>-9.945251e+86</td>\n",
       "      <td>-9.945251e+86</td>\n",
       "      <td>-9.945251e+86</td>\n",
       "      <td>-9.945251e+86</td>\n",
       "      <td>7.290232e-304</td>\n",
       "      <td>NaN</td>\n",
       "      <td>6.013469e-154</td>\n",
       "    </tr>\n",
       "    <tr>\n",
       "      <th>2</th>\n",
       "      <td>b'   1   4GH8'</td>\n",
       "      <td>1.0</td>\n",
       "      <td>NaN</td>\n",
       "      <td>4.0</td>\n",
       "      <td>1.776582e-307</td>\n",
       "      <td>1.0</td>\n",
       "      <td>7.145115e+140</td>\n",
       "      <td>1.795705e-307</td>\n",
       "      <td>2022.0</td>\n",
       "      <td>1474.0</td>\n",
       "      <td>...</td>\n",
       "      <td>-9.945251e+86</td>\n",
       "      <td>-9.945251e+86</td>\n",
       "      <td>-9.945251e+86</td>\n",
       "      <td>-9.945251e+86</td>\n",
       "      <td>-9.945251e+86</td>\n",
       "      <td>-9.945251e+86</td>\n",
       "      <td>-9.945251e+86</td>\n",
       "      <td>7.290232e-304</td>\n",
       "      <td>NaN</td>\n",
       "      <td>6.013469e-154</td>\n",
       "    </tr>\n",
       "    <tr>\n",
       "      <th>3</th>\n",
       "      <td>b'   1   4GH8'</td>\n",
       "      <td>1.0</td>\n",
       "      <td>NaN</td>\n",
       "      <td>4.0</td>\n",
       "      <td>1.776582e-307</td>\n",
       "      <td>1.0</td>\n",
       "      <td>7.145115e+140</td>\n",
       "      <td>1.795705e-307</td>\n",
       "      <td>2022.0</td>\n",
       "      <td>1474.0</td>\n",
       "      <td>...</td>\n",
       "      <td>-9.945251e+86</td>\n",
       "      <td>-9.945251e+86</td>\n",
       "      <td>-9.945251e+86</td>\n",
       "      <td>-9.945251e+86</td>\n",
       "      <td>-9.945251e+86</td>\n",
       "      <td>-9.945251e+86</td>\n",
       "      <td>-9.945251e+86</td>\n",
       "      <td>7.290232e-304</td>\n",
       "      <td>NaN</td>\n",
       "      <td>6.013469e-154</td>\n",
       "    </tr>\n",
       "    <tr>\n",
       "      <th>4</th>\n",
       "      <td>b'   1   4GH8'</td>\n",
       "      <td>1.0</td>\n",
       "      <td>NaN</td>\n",
       "      <td>4.0</td>\n",
       "      <td>1.776582e-307</td>\n",
       "      <td>1.0</td>\n",
       "      <td>7.145115e+140</td>\n",
       "      <td>1.795705e-307</td>\n",
       "      <td>2022.0</td>\n",
       "      <td>1474.0</td>\n",
       "      <td>...</td>\n",
       "      <td>-9.945251e+86</td>\n",
       "      <td>-9.945251e+86</td>\n",
       "      <td>-9.945251e+86</td>\n",
       "      <td>-9.945251e+86</td>\n",
       "      <td>-9.945251e+86</td>\n",
       "      <td>-9.945251e+86</td>\n",
       "      <td>-9.945251e+86</td>\n",
       "      <td>7.290232e-304</td>\n",
       "      <td>NaN</td>\n",
       "      <td>6.013469e-154</td>\n",
       "    </tr>\n",
       "  </tbody>\n",
       "</table>\n",
       "<p>5 rows × 396 columns</p>\n",
       "</div>"
      ],
      "text/plain": [
       "             HHID  HVIDX HV000  HV001          HV002  HV003          HV004  \\\n",
       "0  b'   1   1GH8'    1.0   NaN    1.0  1.776582e-307    1.0  7.145115e+140   \n",
       "1  b'   1   4GH8'    1.0   NaN    4.0  1.776582e-307    1.0  7.145115e+140   \n",
       "2  b'   1   4GH8'    1.0   NaN    4.0  1.776582e-307    1.0  7.145115e+140   \n",
       "3  b'   1   4GH8'    1.0   NaN    4.0  1.776582e-307    1.0  7.145115e+140   \n",
       "4  b'   1   4GH8'    1.0   NaN    4.0  1.776582e-307    1.0  7.145115e+140   \n",
       "\n",
       "           HV005   HV006   HV007  ...        HML37G        HML37H  \\\n",
       "0  1.796574e-307  2022.0  1475.0  ... -9.945251e+86 -9.945251e+86   \n",
       "1  1.795705e-307  2022.0  1474.0  ... -9.945251e+86 -9.945251e+86   \n",
       "2  1.795705e-307  2022.0  1474.0  ... -9.945251e+86 -9.945251e+86   \n",
       "3  1.795705e-307  2022.0  1474.0  ... -9.945251e+86 -9.945251e+86   \n",
       "4  1.795705e-307  2022.0  1474.0  ... -9.945251e+86 -9.945251e+86   \n",
       "\n",
       "         HML37I        HML37J        HML37K        HML37L        HML37M  \\\n",
       "0 -9.945251e+86 -9.945251e+86 -9.945251e+86 -9.945251e+86 -9.945251e+86   \n",
       "1 -9.945251e+86 -9.945251e+86 -9.945251e+86 -9.945251e+86 -9.945251e+86   \n",
       "2 -9.945251e+86 -9.945251e+86 -9.945251e+86 -9.945251e+86 -9.945251e+86   \n",
       "3 -9.945251e+86 -9.945251e+86 -9.945251e+86 -9.945251e+86 -9.945251e+86   \n",
       "4 -9.945251e+86 -9.945251e+86 -9.945251e+86 -9.945251e+86 -9.945251e+86   \n",
       "\n",
       "           HML38  HML39          HML40  \n",
       "0  7.290232e-304    NaN  6.013469e-154  \n",
       "1  7.290232e-304    NaN  6.013469e-154  \n",
       "2  7.290232e-304    NaN  6.013469e-154  \n",
       "3  7.290232e-304    NaN  6.013469e-154  \n",
       "4  7.290232e-304    NaN  6.013469e-154  \n",
       "\n",
       "[5 rows x 396 columns]"
      ]
     },
     "execution_count": 14,
     "metadata": {},
     "output_type": "execute_result"
    }
   ],
   "source": [
    "df.head()"
   ]
  },
  {
   "cell_type": "code",
   "execution_count": 15,
   "id": "087c7fb5-17dc-4248-8503-bf5bc500cd9f",
   "metadata": {
    "tags": []
   },
   "outputs": [
    {
     "ename": "ModuleNotFoundError",
     "evalue": "No module named 'pyreadstat'",
     "output_type": "error",
     "traceback": [
      "\u001b[0;31m---------------------------------------------------------------------------\u001b[0m",
      "\u001b[0;31mModuleNotFoundError\u001b[0m                       Traceback (most recent call last)",
      "Cell \u001b[0;32mIn[15], line 1\u001b[0m\n\u001b[0;32m----> 1\u001b[0m \u001b[38;5;28;01mimport\u001b[39;00m \u001b[38;5;21;01mpyreadstat\u001b[39;00m\n\u001b[1;32m      3\u001b[0m \u001b[38;5;66;03m# Specify the path to your SAS7BDAT file\u001b[39;00m\n\u001b[1;32m      4\u001b[0m file_path \u001b[38;5;241m=\u001b[39m \u001b[38;5;124m\"\u001b[39m\u001b[38;5;124mpath/to/your/file.sas7bdat\u001b[39m\u001b[38;5;124m\"\u001b[39m\n",
      "\u001b[0;31mModuleNotFoundError\u001b[0m: No module named 'pyreadstat'"
     ]
    }
   ],
   "source": [
    "import pyreadstat\n",
    "\n",
    "# Specify the path to your SAS7BDAT file\n",
    "file_path = \"path/to/your/file.sas7bdat\"\n",
    "\n",
    "# Read the SAS7BDAT file into a DataFrame\n",
    "df, meta = pyreadstat.read_sas7bdat(file_path)\n",
    "\n",
    "# Display the first few rows of the DataFrame\n",
    "print(df.head())\n"
   ]
  },
  {
   "cell_type": "code",
   "execution_count": 16,
   "id": "40aeced1-5409-43d5-9e04-1fdb1fb4bb14",
   "metadata": {
    "tags": []
   },
   "outputs": [
    {
     "name": "stdout",
     "output_type": "stream",
     "text": [
      "\u001b[33mWARNING: Ignoring invalid distribution -umpy (/opt/tljh/user/lib/python3.10/site-packages)\u001b[0m\u001b[33m\n",
      "\u001b[0mCollecting pyreadstat\n",
      "  Downloading pyreadstat-1.2.7-cp310-cp310-manylinux_2_17_x86_64.manylinux2014_x86_64.whl.metadata (1.0 kB)\n",
      "Requirement already satisfied: pandas>=1.2.0 in /opt/tljh/user/lib/python3.10/site-packages (from pyreadstat) (2.2.3)\n",
      "Requirement already satisfied: numpy>=1.22.4 in /opt/tljh/user/lib/python3.10/site-packages (from pandas>=1.2.0->pyreadstat) (1.26.4)\n",
      "Requirement already satisfied: python-dateutil>=2.8.2 in /opt/tljh/user/lib/python3.10/site-packages (from pandas>=1.2.0->pyreadstat) (2.8.2)\n",
      "Requirement already satisfied: pytz>=2020.1 in /opt/tljh/user/lib/python3.10/site-packages (from pandas>=1.2.0->pyreadstat) (2023.3.post1)\n",
      "Requirement already satisfied: tzdata>=2022.7 in /opt/tljh/user/lib/python3.10/site-packages (from pandas>=1.2.0->pyreadstat) (2024.2)\n",
      "Requirement already satisfied: six>=1.5 in /opt/tljh/user/lib/python3.10/site-packages (from python-dateutil>=2.8.2->pandas>=1.2.0->pyreadstat) (1.16.0)\n",
      "Downloading pyreadstat-1.2.7-cp310-cp310-manylinux_2_17_x86_64.manylinux2014_x86_64.whl (2.8 MB)\n",
      "\u001b[2K   \u001b[90m━━━━━━━━━━━━━━━━━━━━━━━━━━━━━━━━━━━━━━━━\u001b[0m \u001b[32m2.8/2.8 MB\u001b[0m \u001b[31m76.0 MB/s\u001b[0m eta \u001b[36m0:00:00\u001b[0m\n",
      "\u001b[?25h\u001b[33mWARNING: Ignoring invalid distribution -umpy (/opt/tljh/user/lib/python3.10/site-packages)\u001b[0m\u001b[33m\n",
      "\u001b[0mInstalling collected packages: pyreadstat\n",
      "\u001b[33mWARNING: Ignoring invalid distribution -umpy (/opt/tljh/user/lib/python3.10/site-packages)\u001b[0m\u001b[33m\n",
      "\u001b[0mSuccessfully installed pyreadstat-1.2.7\n",
      "Note: you may need to restart the kernel to use updated packages.\n"
     ]
    }
   ],
   "source": [
    "pip install pyreadstat"
   ]
  },
  {
   "cell_type": "code",
   "execution_count": 1,
   "id": "1821e11d-de3f-482f-9381-aa6bbd34dd76",
   "metadata": {
    "tags": []
   },
   "outputs": [
    {
     "name": "stdout",
     "output_type": "stream",
     "text": [
      "           HHID  HVIDX HV000  HV001  HV002  HV003  HV004     HV005  HV006  \\\n",
      "0         1   1    1.0   GH8    1.0    1.0    1.0    1.0  929431.0   11.0   \n",
      "1         1   4    1.0   GH8    1.0    4.0    1.0    1.0  929431.0   10.0   \n",
      "2         1   4    2.0   GH8    1.0    4.0    1.0    1.0  929431.0   10.0   \n",
      "3         1   4    3.0   GH8    1.0    4.0    1.0    1.0  929431.0   10.0   \n",
      "4         1   4    4.0   GH8    1.0    4.0    1.0    1.0  929431.0   10.0   \n",
      "\n",
      "    HV007  ...  HML37G  HML37H  HML37I  HML37J  HML37K  HML37L  HML37M  HML38  \\\n",
      "0  2022.0  ...     NaN     NaN     NaN     NaN     NaN     NaN     NaN    NaN   \n",
      "1  2022.0  ...     NaN     NaN     NaN     NaN     NaN     NaN     NaN    NaN   \n",
      "2  2022.0  ...     NaN     NaN     NaN     NaN     NaN     NaN     NaN    NaN   \n",
      "3  2022.0  ...     NaN     NaN     NaN     NaN     NaN     NaN     NaN    NaN   \n",
      "4  2022.0  ...     NaN     NaN     NaN     NaN     NaN     NaN     NaN    NaN   \n",
      "\n",
      "   HML39  HML40  \n",
      "0    NaN    NaN  \n",
      "1    NaN    NaN  \n",
      "2    NaN    NaN  \n",
      "3    NaN    NaN  \n",
      "4    NaN    NaN  \n",
      "\n",
      "[5 rows x 396 columns]\n"
     ]
    }
   ],
   "source": [
    "import pyreadstat\n",
    "\n",
    "csv_path = \"shared_data_read_only/Data/DHS/GH_2022_DHS/GHPR8BSD/GHPR8BFL.SAS7BDAT\"\n",
    "\n",
    "df, meta = pyreadstat.read_sas7bdat(csv_path)\n",
    "\n",
    "\n",
    "\n",
    "print(df.head())\n"
   ]
  },
  {
   "cell_type": "code",
   "execution_count": 5,
   "id": "a9614a62-fe02-4f6c-9a34-090f34956b74",
   "metadata": {
    "tags": []
   },
   "outputs": [
    {
     "ename": "TypeError",
     "evalue": "string indices must be integers",
     "output_type": "error",
     "traceback": [
      "\u001b[0;31m---------------------------------------------------------------------------\u001b[0m",
      "\u001b[0;31mTypeError\u001b[0m                                 Traceback (most recent call last)",
      "Cell \u001b[0;32mIn[5], line 51\u001b[0m\n\u001b[1;32m     48\u001b[0m fields \u001b[38;5;241m=\u001b[39m parse_map_file(path)\n\u001b[1;32m     50\u001b[0m \u001b[38;5;28;01mfor\u001b[39;00m field \u001b[38;5;129;01min\u001b[39;00m fields:\n\u001b[0;32m---> 51\u001b[0m     \u001b[38;5;28mprint\u001b[39m(\u001b[38;5;124mf\u001b[39m\u001b[38;5;124m\"\u001b[39m\u001b[38;5;124mField: \u001b[39m\u001b[38;5;132;01m{\u001b[39;00m\u001b[43mfield\u001b[49m\u001b[43m[\u001b[49m\u001b[38;5;124;43m'\u001b[39;49m\u001b[38;5;124;43mitem_name\u001b[39;49m\u001b[38;5;124;43m'\u001b[39;49m\u001b[43m]\u001b[49m\u001b[38;5;132;01m}\u001b[39;00m\u001b[38;5;124m, Start: \u001b[39m\u001b[38;5;132;01m{\u001b[39;00mfield[\u001b[38;5;124m'\u001b[39m\u001b[38;5;124mstart_pos\u001b[39m\u001b[38;5;124m'\u001b[39m]\u001b[38;5;132;01m}\u001b[39;00m\u001b[38;5;124m, Length: \u001b[39m\u001b[38;5;132;01m{\u001b[39;00mfield[\u001b[38;5;124m'\u001b[39m\u001b[38;5;124mlength\u001b[39m\u001b[38;5;124m'\u001b[39m]\u001b[38;5;132;01m}\u001b[39;00m\u001b[38;5;124m\"\u001b[39m)\n",
      "\u001b[0;31mTypeError\u001b[0m: string indices must be integers"
     ]
    }
   ],
   "source": []
  },
  {
   "cell_type": "code",
   "execution_count": 6,
   "id": "ac3de5d6-a844-48fe-9fbd-e63b52a3dfe5",
   "metadata": {},
   "outputs": [
    {
     "name": "stdout",
     "output_type": "stream",
     "text": [
      "\u001b[33mWARNING: Ignoring invalid distribution -umpy (/opt/tljh/user/lib/python3.10/site-packages)\u001b[0m\u001b[33m\n",
      "\u001b[0mRequirement already satisfied: mappyfile in /opt/tljh/user/lib/python3.10/site-packages (1.0.2)\n",
      "Requirement already satisfied: lark>=1.1.5 in /opt/tljh/user/lib/python3.10/site-packages (from mappyfile) (1.2.2)\n",
      "Requirement already satisfied: jsonschema>=4.18.0 in /opt/tljh/user/lib/python3.10/site-packages (from mappyfile) (4.19.2)\n",
      "Requirement already satisfied: jsonref==1.1.0 in /opt/tljh/user/lib/python3.10/site-packages (from mappyfile) (1.1.0)\n",
      "Requirement already satisfied: click in /opt/tljh/user/lib/python3.10/site-packages (from mappyfile) (8.1.7)\n",
      "Requirement already satisfied: attrs>=22.2.0 in /opt/tljh/user/lib/python3.10/site-packages (from jsonschema>=4.18.0->mappyfile) (23.1.0)\n",
      "Requirement already satisfied: jsonschema-specifications>=2023.03.6 in /opt/tljh/user/lib/python3.10/site-packages (from jsonschema>=4.18.0->mappyfile) (2023.7.1)\n",
      "Requirement already satisfied: referencing>=0.28.4 in /opt/tljh/user/lib/python3.10/site-packages (from jsonschema>=4.18.0->mappyfile) (0.30.2)\n",
      "Requirement already satisfied: rpds-py>=0.7.1 in /opt/tljh/user/lib/python3.10/site-packages (from jsonschema>=4.18.0->mappyfile) (0.10.6)\n",
      "\u001b[33mWARNING: Ignoring invalid distribution -umpy (/opt/tljh/user/lib/python3.10/site-packages)\u001b[0m\u001b[33m\n",
      "\u001b[0m\u001b[33mWARNING: Ignoring invalid distribution -umpy (/opt/tljh/user/lib/python3.10/site-packages)\u001b[0m\u001b[33m\n",
      "\u001b[0m"
     ]
    }
   ],
   "source": [
    "\n"
   ]
  },
  {
   "cell_type": "code",
   "execution_count": null,
   "id": "b50a004a-dc94-408c-8c48-87d4b6314258",
   "metadata": {},
   "outputs": [],
   "source": []
  }
 ],
 "metadata": {
  "kernelspec": {
   "display_name": "Python 3 (ipykernel)",
   "language": "python",
   "name": "python3"
  },
  "language_info": {
   "codemirror_mode": {
    "name": "ipython",
    "version": 3
   },
   "file_extension": ".py",
   "mimetype": "text/x-python",
   "name": "python",
   "nbconvert_exporter": "python",
   "pygments_lexer": "ipython3",
   "version": "3.10.10"
  }
 },
 "nbformat": 4,
 "nbformat_minor": 5
}
